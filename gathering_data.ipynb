{
 "cells": [
  {
   "cell_type": "code",
   "execution_count": 2,
   "id": "0880d9e8-fb02-4916-80f1-ddba6f76a7ad",
   "metadata": {
    "tags": []
   },
   "outputs": [],
   "source": [
    "import pandas as pd\n",
    "\n",
    "import requests\n",
    "import base64\n",
    "import time\n",
    "\n",
    "import artist_data"
   ]
  },
  {
   "cell_type": "markdown",
   "id": "b6125702-2107-4931-8251-9d1fd36867db",
   "metadata": {},
   "source": [
    "## Gathering Data\n",
    "\n",
    "By using the Spotify API, here I will get the artist Spotify popularity and followers and match them to their corresponding songs. By using the `CLIENT ID ` and `CLIENT SECRET`, that they provide to registered applications in their *developer* website."
   ]
  },
  {
   "cell_type": "code",
   "execution_count": 3,
   "id": "a9140c07-d8c1-4456-8e57-953ef1de8681",
   "metadata": {
    "tags": []
   },
   "outputs": [],
   "source": [
    "CLIENT_ID = 'x'\n",
    "CLIENT_SECRET = 'x'\n",
    "REDIRECT_URL = 'http://localhost:5000'\n",
    "\n",
    "token = artist_data.get_access_token(CLIENT_ID, CLIENT_SECRET)"
   ]
  },
  {
   "cell_type": "code",
   "execution_count": 4,
   "id": "8376d697-73c4-4bf2-8c09-cf9c5aef9565",
   "metadata": {
    "tags": []
   },
   "outputs": [],
   "source": [
    "# Run only one time to initialize the new columns and save the dataset to a file\n",
    "# data = pd.read_csv(\"data/filled_spotify.csv\", index_col=0)\n",
    "# data[\"artist_popularity\"] = None\n",
    "# data[\"artist_followers\"] = None\n",
    "# data.to_csv(\"data/filled_artists_info.csv\")\n",
    "\n",
    "data = pd.read_csv(\"data/filled_artists_info.csv\", index_col=0)"
   ]
  },
  {
   "cell_type": "code",
   "execution_count": 7,
   "id": "d1c5c2e4-30be-4e6d-a1ce-002e8cd03fd6",
   "metadata": {
    "tags": []
   },
   "outputs": [],
   "source": [
    "# Clean main artists that still have their features left, because of 'X' separating the names\n",
    "# Or have features in brackets (e.g. The Poppy Family (Featuring Susan Jacks))\n",
    "\n",
    "# data['main_artist'] = data['main_artist'].str.replace(r'\\s[xX]\\s.*', '', regex=True) \\\n",
    "#                             .str.replace(r'\\(.*', '', regex=True)\n",
    "\n",
    "# data.to_csv(\"data/filled_artists_info.csv\")"
   ]
  },
  {
   "cell_type": "markdown",
   "id": "d7e53717-4116-49fb-871a-9d3806ac942c",
   "metadata": {},
   "source": [
    "After loading the dataset, I get only the rows with missing values for `artist_popularity` and `artist_followers` and shuffle the data."
   ]
  },
  {
   "cell_type": "code",
   "execution_count": 10,
   "id": "5c1a23a1-45e6-494f-8a29-b29db43ae742",
   "metadata": {
    "tags": []
   },
   "outputs": [],
   "source": [
    "missing_data = data[data[\"artist_popularity\"].isnull()]\n",
    "missing_data = missing_data.sample(frac=1) #Shuffling to avoid going over the first rows which could not be filled every time"
   ]
  },
  {
   "cell_type": "code",
   "execution_count": 7,
   "id": "60f6cec4-e416-49fb-8f38-28d0b7fcb7f1",
   "metadata": {
    "tags": []
   },
   "outputs": [],
   "source": [
    "# missing_data['main_artist'] = missing_data['main_artist'].str.replace(r'\\s[xX]\\s.*', '', regex=True) \\\n",
    "#                             .str.replace(r'\\(.*', '', regex=True)"
   ]
  },
  {
   "cell_type": "markdown",
   "id": "f66aa3e3-a2ea-4d4a-8fce-337475d80010",
   "metadata": {},
   "source": [
    "The following code block was ran multiple times in order to fill missing values for artist popularity and followers every time. It fills missing artist popularity and follower data by querying an API, updating the dataset in batches of 25 rows, and saving the results to a CSV file."
   ]
  },
  {
   "cell_type": "code",
   "execution_count": 16,
   "id": "457f05f6-9e3e-43fb-b65b-f9f2452ec72f",
   "metadata": {
    "tags": []
   },
   "outputs": [
    {
     "name": "stdout",
     "output_type": "stream",
     "text": [
      "Changing Faces : f: 30 p: 5822\n",
      "MoneyBagg Yo: f: 77 p: 4749750\n",
      "Das EFX : f: 58 p: 390055\n",
      "Not found Cymarron\n",
      "Not found John W. Anderson presents KaSandra\n",
      "The Kings: f: 32 p: 11605\n",
      "Mickey Lee Lane: f: 11 p: 450\n",
      "nan: f: 64 p: 3078486\n",
      "Anita Cochran : f: 15 p: 10585\n",
      "Wyatt : f: 69 p: 316739\n",
      "nan: f: 64 p: 3078486\n",
      "Not found Cymarron\n",
      "El Alfa: f: 79 p: 3750772\n",
      "Tom MacDonald: f: 67 p: 1713345\n",
      "The Verve: f: 69 p: 2444237\n",
      "Jennifer Hanson: f: 61 p: 2001876\n"
     ]
    }
   ],
   "source": [
    "for _ in range(20):\n",
    "    # Iterate through the DataFrame rows\n",
    "    for idx, row in missing_data.head(25).iterrows():\n",
    "        artist_name = row[\"main_artist\"]\n",
    "        info = artist_data.get_artist_followers_and_popularity(artist_name, token)\n",
    "        time.sleep(0.1)\n",
    "        if info:\n",
    "            # Populate the DataFrame with the cached or retrieved artist information\n",
    "            data.loc[data[\"main_artist\"] == artist_name, [\"artist_popularity\"]] = info[\"popularity\"]\n",
    "            data.loc[data[\"main_artist\"] == artist_name, [\"artist_followers\"]] = info[\"followers\"]\n",
    "            print(f\"{artist_name}: f: {info['popularity']} p: {info['followers']}\")\n",
    "        else:\n",
    "            print(\"Not found \" + artist_name)\n",
    "\n",
    "\n",
    "    missing_data = missing_data.reset_index(drop = True).drop(range(25))\n",
    "\n",
    "data.to_csv(\"data/filled_artists_info.csv\")"
   ]
  },
  {
   "cell_type": "code",
   "execution_count": null,
   "id": "f7108846-d822-41dd-87fc-3578b7f6eb61",
   "metadata": {},
   "outputs": [],
   "source": []
  }
 ],
 "metadata": {
  "kernelspec": {
   "display_name": "Python 3 (ipykernel)",
   "language": "python",
   "name": "python3"
  },
  "language_info": {
   "codemirror_mode": {
    "name": "ipython",
    "version": 3
   },
   "file_extension": ".py",
   "mimetype": "text/x-python",
   "name": "python",
   "nbconvert_exporter": "python",
   "pygments_lexer": "ipython3",
   "version": "3.11.7"
  }
 },
 "nbformat": 4,
 "nbformat_minor": 5
}
